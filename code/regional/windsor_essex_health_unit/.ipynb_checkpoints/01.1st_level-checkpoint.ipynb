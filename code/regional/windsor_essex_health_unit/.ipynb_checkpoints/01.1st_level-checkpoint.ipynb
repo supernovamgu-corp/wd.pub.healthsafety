{
 "cells": [
  {
   "cell_type": "code",
   "execution_count": 1,
   "id": "b68df8b7-7e53-4667-920f-40ebce3d5ccc",
   "metadata": {},
   "outputs": [],
   "source": [
    "#data prefix for output data\n",
    "yearmonth = \"202405\""
   ]
  },
  {
   "cell_type": "code",
   "execution_count": 2,
   "id": "d7d5e654",
   "metadata": {},
   "outputs": [],
   "source": [
    "#import necessary packages\n",
    "import platform\n",
    "import os\n",
    "import sys\n",
    "import time\n",
    "#for managing the data\n",
    "import pandas as pd\n",
    "from io import StringIO\n",
    "\n",
    "#install !pip install webdriver-manager\n",
    "#webdrivers\n",
    "from selenium import webdriver\n",
    "from selenium.webdriver.chrome.service import Service as ChromeService\n",
    "from webdriver_manager.chrome import ChromeDriverManager\n",
    "from selenium.webdriver.common.by import By\n",
    "\n",
    "from bs4 import BeautifulSoup\n",
    "\n",
    "import pathlib\n",
    "\n",
    "import os"
   ]
  },
  {
   "cell_type": "code",
   "execution_count": 3,
   "id": "3df70c99",
   "metadata": {},
   "outputs": [],
   "source": [
    "#get current path\n",
    "curr_path = os.getcwd()\n",
    "project_tag = curr_path.split(\"/\")[-1]\n",
    "grouping = curr_path.split(\"/\")[-2]\n",
    "output_path = \"../../../data/{}/{}/{}/\".format(grouping,project_tag,yearmonth )\n",
    "\n",
    "#create data output path if it doesn't exist\n",
    "pathlib.Path(output_path).mkdir(parents=True, exist_ok=True) "
   ]
  },
  {
   "cell_type": "code",
   "execution_count": 4,
   "id": "d6997359",
   "metadata": {},
   "outputs": [
    {
     "ename": "WebDriverException",
     "evalue": "Message: Service /Users/mike/.wdm/drivers/chromedriver/mac64/124.0.6367.91/chromedriver-mac-arm64/chromedriver unexpectedly exited. Status code was: -9\n",
     "output_type": "error",
     "traceback": [
      "\u001b[0;31m---------------------------------------------------------------------------\u001b[0m",
      "\u001b[0;31mWebDriverException\u001b[0m                        Traceback (most recent call last)",
      "Cell \u001b[0;32mIn[4], line 2\u001b[0m\n\u001b[1;32m      1\u001b[0m \u001b[38;5;66;03m#open web driver\u001b[39;00m\n\u001b[0;32m----> 2\u001b[0m driver \u001b[38;5;241m=\u001b[39m webdriver\u001b[38;5;241m.\u001b[39mChrome(service\u001b[38;5;241m=\u001b[39mChromeService(ChromeDriverManager()\u001b[38;5;241m.\u001b[39minstall()))\n",
      "File \u001b[0;32m/opt/anaconda3/lib/python3.11/site-packages/selenium/webdriver/chrome/webdriver.py:45\u001b[0m, in \u001b[0;36mWebDriver.__init__\u001b[0;34m(self, options, service, keep_alive)\u001b[0m\n\u001b[1;32m     42\u001b[0m service \u001b[38;5;241m=\u001b[39m service \u001b[38;5;28;01mif\u001b[39;00m service \u001b[38;5;28;01melse\u001b[39;00m Service()\n\u001b[1;32m     43\u001b[0m options \u001b[38;5;241m=\u001b[39m options \u001b[38;5;28;01mif\u001b[39;00m options \u001b[38;5;28;01melse\u001b[39;00m Options()\n\u001b[0;32m---> 45\u001b[0m \u001b[38;5;28msuper\u001b[39m()\u001b[38;5;241m.\u001b[39m\u001b[38;5;21m__init__\u001b[39m(\n\u001b[1;32m     46\u001b[0m     browser_name\u001b[38;5;241m=\u001b[39mDesiredCapabilities\u001b[38;5;241m.\u001b[39mCHROME[\u001b[38;5;124m\"\u001b[39m\u001b[38;5;124mbrowserName\u001b[39m\u001b[38;5;124m\"\u001b[39m],\n\u001b[1;32m     47\u001b[0m     vendor_prefix\u001b[38;5;241m=\u001b[39m\u001b[38;5;124m\"\u001b[39m\u001b[38;5;124mgoog\u001b[39m\u001b[38;5;124m\"\u001b[39m,\n\u001b[1;32m     48\u001b[0m     options\u001b[38;5;241m=\u001b[39moptions,\n\u001b[1;32m     49\u001b[0m     service\u001b[38;5;241m=\u001b[39mservice,\n\u001b[1;32m     50\u001b[0m     keep_alive\u001b[38;5;241m=\u001b[39mkeep_alive,\n\u001b[1;32m     51\u001b[0m )\n",
      "File \u001b[0;32m/opt/anaconda3/lib/python3.11/site-packages/selenium/webdriver/chromium/webdriver.py:55\u001b[0m, in \u001b[0;36mChromiumDriver.__init__\u001b[0;34m(self, browser_name, vendor_prefix, options, service, keep_alive)\u001b[0m\n\u001b[1;32m     52\u001b[0m     options\u001b[38;5;241m.\u001b[39mbrowser_version \u001b[38;5;241m=\u001b[39m \u001b[38;5;28;01mNone\u001b[39;00m\n\u001b[1;32m     54\u001b[0m \u001b[38;5;28mself\u001b[39m\u001b[38;5;241m.\u001b[39mservice\u001b[38;5;241m.\u001b[39mpath \u001b[38;5;241m=\u001b[39m finder\u001b[38;5;241m.\u001b[39mget_driver_path()\n\u001b[0;32m---> 55\u001b[0m \u001b[38;5;28mself\u001b[39m\u001b[38;5;241m.\u001b[39mservice\u001b[38;5;241m.\u001b[39mstart()\n\u001b[1;32m     57\u001b[0m executor \u001b[38;5;241m=\u001b[39m ChromiumRemoteConnection(\n\u001b[1;32m     58\u001b[0m     remote_server_addr\u001b[38;5;241m=\u001b[39m\u001b[38;5;28mself\u001b[39m\u001b[38;5;241m.\u001b[39mservice\u001b[38;5;241m.\u001b[39mservice_url,\n\u001b[1;32m     59\u001b[0m     browser_name\u001b[38;5;241m=\u001b[39mbrowser_name,\n\u001b[0;32m   (...)\u001b[0m\n\u001b[1;32m     62\u001b[0m     ignore_proxy\u001b[38;5;241m=\u001b[39moptions\u001b[38;5;241m.\u001b[39m_ignore_local_proxy,\n\u001b[1;32m     63\u001b[0m )\n\u001b[1;32m     65\u001b[0m \u001b[38;5;28;01mtry\u001b[39;00m:\n",
      "File \u001b[0;32m/opt/anaconda3/lib/python3.11/site-packages/selenium/webdriver/common/service.py:102\u001b[0m, in \u001b[0;36mService.start\u001b[0;34m(self)\u001b[0m\n\u001b[1;32m    100\u001b[0m count \u001b[38;5;241m=\u001b[39m \u001b[38;5;241m0\u001b[39m\n\u001b[1;32m    101\u001b[0m \u001b[38;5;28;01mwhile\u001b[39;00m \u001b[38;5;28;01mTrue\u001b[39;00m:\n\u001b[0;32m--> 102\u001b[0m     \u001b[38;5;28mself\u001b[39m\u001b[38;5;241m.\u001b[39massert_process_still_running()\n\u001b[1;32m    103\u001b[0m     \u001b[38;5;28;01mif\u001b[39;00m \u001b[38;5;28mself\u001b[39m\u001b[38;5;241m.\u001b[39mis_connectable():\n\u001b[1;32m    104\u001b[0m         \u001b[38;5;28;01mbreak\u001b[39;00m\n",
      "File \u001b[0;32m/opt/anaconda3/lib/python3.11/site-packages/selenium/webdriver/common/service.py:115\u001b[0m, in \u001b[0;36mService.assert_process_still_running\u001b[0;34m(self)\u001b[0m\n\u001b[1;32m    113\u001b[0m return_code \u001b[38;5;241m=\u001b[39m \u001b[38;5;28mself\u001b[39m\u001b[38;5;241m.\u001b[39mprocess\u001b[38;5;241m.\u001b[39mpoll()\n\u001b[1;32m    114\u001b[0m \u001b[38;5;28;01mif\u001b[39;00m return_code:\n\u001b[0;32m--> 115\u001b[0m     \u001b[38;5;28;01mraise\u001b[39;00m WebDriverException(\u001b[38;5;124mf\u001b[39m\u001b[38;5;124m\"\u001b[39m\u001b[38;5;124mService \u001b[39m\u001b[38;5;132;01m{\u001b[39;00m\u001b[38;5;28mself\u001b[39m\u001b[38;5;241m.\u001b[39m_path\u001b[38;5;132;01m}\u001b[39;00m\u001b[38;5;124m unexpectedly exited. Status code was: \u001b[39m\u001b[38;5;132;01m{\u001b[39;00mreturn_code\u001b[38;5;132;01m}\u001b[39;00m\u001b[38;5;124m\"\u001b[39m)\n",
      "\u001b[0;31mWebDriverException\u001b[0m: Message: Service /Users/mike/.wdm/drivers/chromedriver/mac64/124.0.6367.91/chromedriver-mac-arm64/chromedriver unexpectedly exited. Status code was: -9\n"
     ]
    }
   ],
   "source": [
    "#open web driver\n",
    "driver = webdriver.Chrome(service=ChromeService(ChromeDriverManager().install()))"
   ]
  },
  {
   "cell_type": "code",
   "execution_count": null,
   "id": "c02b01a0",
   "metadata": {},
   "outputs": [],
   "source": [
    "#url\n",
    "base_url_list = \\\n",
    "[\n",
    "    ['Food Safety',\"https://disclosure55.wechu.org/disclosure/FoodSafety/Table\", ['Facility Name','Site Address','Facility Type','Last Inspection Date']],\n",
    "    ['Personal Services & Child Care',\"https://disclosure55.wechu.org/disclosure/PersonalServicesChildCare/Table\", ['Facility Name','Site Address','Facility Type','Last Inspection Date']],\n",
    "    ['Safe Water',\"https://disclosure55.wechu.org/disclosure/SafeWater/Table\",['Facility Name','Site Address','Facility Type','Last Inspection Date']],\n",
    "    ['Campgrounds',\"https://disclosure55.wechu.org/disclosure/Campgrounds/Table\",['Facility Name','Site Address','Facility Type','Last Inspection Date']],\n",
    "    ['Legal Actions',\"https://disclosure55.wechu.org/disclosure/Enforcements\",['Facility Name','Site Address','Type','Offense','Outcome','Offense Date','Comment','Resolved Date']],\n",
    "]\n"
   ]
  },
  {
   "cell_type": "code",
   "execution_count": 6,
   "id": "1247f93f",
   "metadata": {
    "scrolled": true
   },
   "outputs": [],
   "source": [
    "#place holder for final dataframe list\n",
    "df_list = []\n",
    "\n",
    "for u in base_url_list:\n",
    "    category = u[0]\n",
    "    base_url = u[1]\n",
    "    columns  = u[2]\n",
    "\n",
    "    #load main landing page\n",
    "    driver.get(base_url)\n",
    "    \n",
    "    try:\n",
    "        #find disclaimer button\n",
    "        disclamer_btn = driver.find_element(by='name', value=\"AcceptDisclaimerButton\")\n",
    "\n",
    "        #click the disclaimer button to move to the data page\n",
    "        disclamer_btn.click()\n",
    "    except:\n",
    "        pass\n",
    "    \n",
    "    # We will loop through until there's no next page button on the webpage\n",
    "    #find next page button\n",
    "    last_page = False\n",
    "\n",
    "    while last_page==False:\n",
    "        try:\n",
    "            next_btn = driver.find_element(By.CLASS_NAME, value=\"next-page-link\")\n",
    "        except:\n",
    "            last_page = True\n",
    "\n",
    "\n",
    "        #place holder for extracted data\n",
    "        data_url_list = []\n",
    "\n",
    "        #locate each table rows\n",
    "        data_rows = driver.find_elements(By.CLASS_NAME, value=\"hovereffect\")\n",
    "\n",
    "        for row in data_rows:\n",
    "            data_url_list.append( row.get_attribute(\"onclick\") )\n",
    "\n",
    "        #convert html table into dataframe\n",
    "        df = pd.read_html(StringIO((driver.page_source)))\n",
    "        df = df[0]\n",
    "        \n",
    "\n",
    "        #rename columns for clean up\n",
    "        df.columns = columns\n",
    "        \n",
    "        #append url column and category column\n",
    "        df['url_entity_partial'] = data_url_list\n",
    "        df['category'] = category\n",
    "\n",
    "        #put aside resulting table\n",
    "        df_list.append(df)\n",
    "\n",
    "        if last_page==True:\n",
    "            break\n",
    "        #move to the next page\n",
    "        next_btn.click()"
   ]
  },
  {
   "cell_type": "code",
   "execution_count": 7,
   "id": "ceaeaffe",
   "metadata": {},
   "outputs": [
    {
     "name": "stdout",
     "output_type": "stream",
     "text": [
      "(2622, 13)\n"
     ]
    }
   ],
   "source": [
    "final_df = pd.concat(df_list)\n",
    "print(final_df.shape)"
   ]
  },
  {
   "cell_type": "code",
   "execution_count": null,
   "id": "667436f8-1c1d-4d4a-bd3d-051b1041a58f",
   "metadata": {},
   "outputs": [],
   "source": []
  },
  {
   "cell_type": "code",
   "execution_count": 9,
   "id": "0a3c59da-73d8-403d-8b77-91bb93038024",
   "metadata": {},
   "outputs": [],
   "source": [
    "#create full url link\n",
    "url_prefix = \"https://disclosure55.wechu.org\"\n",
    "\n",
    "url_list=[]\n",
    "for i,r in final_df.iterrows():\n",
    "    temp_url_full = url_prefix + r['url_entity_partial'].split(\"'\")[1]\n",
    "    url_list.append( temp_url_full )\n",
    "\n",
    "final_df['url_entity_full'] = url_list"
   ]
  },
  {
   "cell_type": "code",
   "execution_count": null,
   "id": "889ef0cd-5de9-4a95-b698-3e327154afd4",
   "metadata": {},
   "outputs": [],
   "source": []
  },
  {
   "cell_type": "code",
   "execution_count": 10,
   "id": "f1bce748",
   "metadata": {},
   "outputs": [
    {
     "name": "stdout",
     "output_type": "stream",
     "text": [
      "file outputted to  ../../../data/regional/sudbury_health_unit/202405/1_level_table.csv\n"
     ]
    }
   ],
   "source": [
    "final_df.to_csv( output_path + \"1_level_table.csv\", index=False)\n",
    "print(\"file outputted to \",output_path + \"1_level_table.csv\")"
   ]
  },
  {
   "cell_type": "code",
   "execution_count": 11,
   "id": "e568037c",
   "metadata": {},
   "outputs": [],
   "source": [
    "#close webdriver\n",
    "try:\n",
    "    driver.close()\n",
    "except:\n",
    "    pass"
   ]
  },
  {
   "cell_type": "code",
   "execution_count": null,
   "id": "e83c09af-cfe4-443f-b7f2-983d073c7c81",
   "metadata": {},
   "outputs": [],
   "source": []
  }
 ],
 "metadata": {
  "kernelspec": {
   "display_name": "Python 3 (ipykernel)",
   "language": "python",
   "name": "python3"
  },
  "language_info": {
   "codemirror_mode": {
    "name": "ipython",
    "version": 3
   },
   "file_extension": ".py",
   "mimetype": "text/x-python",
   "name": "python",
   "nbconvert_exporter": "python",
   "pygments_lexer": "ipython3",
   "version": "3.11.7"
  }
 },
 "nbformat": 4,
 "nbformat_minor": 5
}

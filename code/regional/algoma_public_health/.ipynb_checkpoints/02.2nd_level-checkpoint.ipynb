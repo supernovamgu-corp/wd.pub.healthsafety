{
 "cells": [
  {
   "cell_type": "code",
   "execution_count": 1,
   "id": "b68df8b7-7e53-4667-920f-40ebce3d5ccc",
   "metadata": {},
   "outputs": [],
   "source": [
    "#data prefix for output data\n",
    "yearmonth = \"202405\""
   ]
  },
  {
   "cell_type": "code",
   "execution_count": 2,
   "id": "d7d5e654",
   "metadata": {},
   "outputs": [],
   "source": [
    "#import necessary packages\n",
    "import platform\n",
    "import os\n",
    "import sys\n",
    "import time\n",
    "#for managing the data\n",
    "import pandas as pd\n",
    "\n",
    "#install !pip install webdriver-manager\n",
    "#webdrivers\n",
    "from selenium import webdriver\n",
    "from selenium.webdriver.chrome.service import Service as ChromeService\n",
    "from webdriver_manager.chrome import ChromeDriverManager\n",
    "from selenium.webdriver.common.by import By\n",
    "\n",
    "from bs4 import BeautifulSoup\n",
    "\n",
    "import pathlib\n",
    "\n",
    "import os\n",
    "from io import StringIO\n",
    "\n",
    "from tqdm import tqdm"
   ]
  },
  {
   "cell_type": "code",
   "execution_count": 3,
   "id": "3df70c99",
   "metadata": {},
   "outputs": [],
   "source": [
    "#get current path\n",
    "curr_path = os.getcwd()\n",
    "project_tag = curr_path.split(\"/\")[-1]\n",
    "grouping = curr_path.split(\"/\")[-2]\n",
    "output_path = \"../../../data/{}/{}/{}/\".format(grouping,project_tag,yearmonth )\n",
    "\n",
    "#create data output path if it doesn't exist\n",
    "pathlib.Path(output_path).mkdir(parents=True, exist_ok=True) "
   ]
  },
  {
   "cell_type": "code",
   "execution_count": null,
   "id": "d6997359",
   "metadata": {},
   "outputs": [],
   "source": []
  },
  {
   "cell_type": "code",
   "execution_count": 4,
   "id": "f9c66cab-87db-43b8-8200-4fc30f7d7c9c",
   "metadata": {},
   "outputs": [],
   "source": [
    "#load in level 1 data\n",
    "df = pd.read_csv(output_path + \"1_level_table.csv\")"
   ]
  },
  {
   "cell_type": "code",
   "execution_count": 5,
   "id": "15f319ce-0f89-4e57-813c-f0da5a5754e0",
   "metadata": {},
   "outputs": [],
   "source": [
    "#open web driver\n",
    "driver = webdriver.Chrome(service=ChromeService(ChromeDriverManager().install()))"
   ]
  },
  {
   "cell_type": "code",
   "execution_count": null,
   "id": "c670fa77-5b4a-4cb3-80e3-cbf9dbf03413",
   "metadata": {},
   "outputs": [],
   "source": []
  },
  {
   "cell_type": "code",
   "execution_count": 6,
   "id": "1247f93f",
   "metadata": {
    "scrolled": true
   },
   "outputs": [
    {
     "name": "stderr",
     "output_type": "stream",
     "text": [
      "1387it [10:16,  2.25it/s]\n"
     ]
    }
   ],
   "source": [
    "#place holder for final dataframe list\n",
    "df_list = []\n",
    "\n",
    "for i,r in tqdm( df.iterrows() ):\n",
    "    url = r['url_entity_partial']\n",
    "    url_entity = r['url_entity_full']\n",
    "    \n",
    "    #load the main landing page\n",
    "    driver.get(url_entity)\n",
    "    \n",
    "    try:\n",
    "        #find disclaimer button\n",
    "        disclamer_btn = driver.find_element(by='name', value=\"AcceptDisclaimerButton\")\n",
    "    \n",
    "        #click the disclaimer button to move to the data page\n",
    "        disclamer_btn.click()\n",
    "    except:\n",
    "        pass\n",
    "\n",
    "    #place holder for extracted data\n",
    "    data_url_list = []\n",
    "    data_url_full_list = []\n",
    "    \n",
    "    #locate each table rows\n",
    "    data_rows = driver.find_elements(By.CLASS_NAME, value=\"hovereffect\")\n",
    "\n",
    "    #if no inspection data skip to the next url\n",
    "    if len(data_rows)==0:\n",
    "        continue\n",
    "    \n",
    "    for row in data_rows:\n",
    "        data_url_list.append( row.get_attribute(\"onclick\") )\n",
    "    \n",
    "    url_prefix = \"http://disclosure.algomapublichealth.com\"\n",
    "    for u in data_url_list:\n",
    "        temp_url = url_prefix+u.split(\"'\")[1]\n",
    "        data_url_full_list.append(temp_url)\n",
    "    \n",
    "    tables = pd.read_html(StringIO((driver.page_source)))\n",
    "    table  = tables[1]\n",
    "    table['url_inspection'] = data_url_list\n",
    "    table['url_inspection_full'] = data_url_full_list\n",
    "    table['url_entity_full'] = url_entity\n",
    "\n",
    "    df_list.append(table)\n",
    " "
   ]
  },
  {
   "cell_type": "code",
   "execution_count": null,
   "id": "6493f7a8-2606-4c7f-8923-cffbedb9e29c",
   "metadata": {},
   "outputs": [],
   "source": []
  },
  {
   "cell_type": "code",
   "execution_count": null,
   "id": "18095ea3-0b7c-460a-9d3f-c919df608abb",
   "metadata": {},
   "outputs": [],
   "source": []
  },
  {
   "cell_type": "code",
   "execution_count": null,
   "id": "bfe0d1f9-23a7-442b-959b-adc94944c322",
   "metadata": {},
   "outputs": [],
   "source": []
  },
  {
   "cell_type": "code",
   "execution_count": 7,
   "id": "ceaeaffe",
   "metadata": {},
   "outputs": [],
   "source": [
    "final_df = pd.concat(df_list)\n",
    "print(final_df.shape)"
   ]
  },
  {
   "cell_type": "code",
   "execution_count": 8,
   "id": "667436f8-1c1d-4d4a-bd3d-051b1041a58f",
   "metadata": {},
   "outputs": [
    {
     "data": {
      "text/plain": [
       "(3198, 7)"
      ]
     },
     "execution_count": 8,
     "metadata": {},
     "output_type": "execute_result"
    }
   ],
   "source": []
  },
  {
   "cell_type": "code",
   "execution_count": 9,
   "id": "f1bce748",
   "metadata": {},
   "outputs": [],
   "source": [
    "final_df.to_csv( output_path + \"2_level_table.csv\", index=False)"
   ]
  },
  {
   "cell_type": "code",
   "execution_count": 11,
   "id": "e568037c",
   "metadata": {},
   "outputs": [],
   "source": [
    "#close webdriver\n",
    "try:\n",
    "    driver.close()\n",
    "except:\n",
    "    pass"
   ]
  },
  {
   "cell_type": "code",
   "execution_count": null,
   "id": "9280a52d",
   "metadata": {},
   "outputs": [],
   "source": []
  },
  {
   "cell_type": "code",
   "execution_count": null,
   "id": "4053b95a",
   "metadata": {},
   "outputs": [],
   "source": []
  }
 ],
 "metadata": {
  "kernelspec": {
   "display_name": "Python 3 (ipykernel)",
   "language": "python",
   "name": "python3"
  },
  "language_info": {
   "codemirror_mode": {
    "name": "ipython",
    "version": 3
   },
   "file_extension": ".py",
   "mimetype": "text/x-python",
   "name": "python",
   "nbconvert_exporter": "python",
   "pygments_lexer": "ipython3",
   "version": "3.11.7"
  }
 },
 "nbformat": 4,
 "nbformat_minor": 5
}

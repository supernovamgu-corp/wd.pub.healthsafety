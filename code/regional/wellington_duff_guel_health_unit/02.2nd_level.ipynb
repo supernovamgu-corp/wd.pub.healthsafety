{
 "cells": [
  {
   "cell_type": "code",
   "execution_count": 1,
   "id": "b68df8b7-7e53-4667-920f-40ebce3d5ccc",
   "metadata": {},
   "outputs": [],
   "source": [
    "#data prefix for output data\n",
    "yearmonth = \"202405\""
   ]
  },
  {
   "cell_type": "code",
   "execution_count": 2,
   "id": "d7d5e654",
   "metadata": {},
   "outputs": [],
   "source": [
    "#import necessary packages\n",
    "import platform\n",
    "import os\n",
    "import sys\n",
    "import time\n",
    "#for managing the data\n",
    "import pandas as pd\n",
    "\n",
    "#install !pip install webdriver-manager\n",
    "#webdrivers\n",
    "from selenium import webdriver\n",
    "from selenium.webdriver.chrome.service import Service as ChromeService\n",
    "from webdriver_manager.chrome import ChromeDriverManager\n",
    "from selenium.webdriver.common.by import By\n",
    "\n",
    "from bs4 import BeautifulSoup\n",
    "\n",
    "import pathlib\n",
    "\n",
    "import os\n",
    "from io import StringIO\n",
    "\n",
    "from tqdm import tqdm"
   ]
  },
  {
   "cell_type": "code",
   "execution_count": 3,
   "id": "3df70c99",
   "metadata": {},
   "outputs": [],
   "source": [
    "#get current path\n",
    "curr_path = os.getcwd()\n",
    "project_tag = curr_path.split(\"/\")[-1]\n",
    "grouping = curr_path.split(\"/\")[-2]\n",
    "output_path = \"../../../data/{}/{}/{}/\".format(grouping,project_tag,yearmonth )\n",
    "\n",
    "#create data output path if it doesn't exist\n",
    "pathlib.Path(output_path).mkdir(parents=True, exist_ok=True) "
   ]
  },
  {
   "cell_type": "code",
   "execution_count": 4,
   "id": "d6997359",
   "metadata": {},
   "outputs": [
    {
     "data": {
      "text/plain": [
       "'../../../data/regional/wellington_duff_guel_health_unit/202405/'"
      ]
     },
     "execution_count": 4,
     "metadata": {},
     "output_type": "execute_result"
    }
   ],
   "source": [
    "output_path"
   ]
  },
  {
   "cell_type": "code",
   "execution_count": 5,
   "id": "f9c66cab-87db-43b8-8200-4fc30f7d7c9c",
   "metadata": {},
   "outputs": [
    {
     "name": "stdout",
     "output_type": "stream",
     "text": [
      "(2708, 13)\n"
     ]
    }
   ],
   "source": [
    "#load in level 1 data\n",
    "df = pd.read_csv(output_path + \"1_level_table.csv\")\n",
    "print(df.shape)"
   ]
  },
  {
   "cell_type": "code",
   "execution_count": 6,
   "id": "15f319ce-0f89-4e57-813c-f0da5a5754e0",
   "metadata": {},
   "outputs": [],
   "source": [
    "#open web driver\n",
    "driver = webdriver.Chrome(service=ChromeService(ChromeDriverManager().install()))"
   ]
  },
  {
   "cell_type": "code",
   "execution_count": 7,
   "id": "c670fa77-5b4a-4cb3-80e3-cbf9dbf03413",
   "metadata": {},
   "outputs": [],
   "source": [
    "#place holder for final dataframe list\n",
    "df_list = []"
   ]
  },
  {
   "cell_type": "code",
   "execution_count": 8,
   "id": "1247f93f",
   "metadata": {
    "scrolled": true
   },
   "outputs": [
    {
     "name": "stderr",
     "output_type": "stream",
     "text": [
      "2708it [22:24,  2.01it/s]\n"
     ]
    }
   ],
   "source": [
    "\n",
    "\n",
    "for i,r in tqdm( df.iterrows() ):\n",
    "    #resume point in case it crashes\n",
    "    last_i = len(df_list)-1\n",
    "    if i<last_i:\n",
    "        continue\n",
    "    url = r['url_entity_partial']\n",
    "    url_entity = r['url_entity_full']\n",
    "    \n",
    "    #load the main landing page\n",
    "    driver.get(url_entity)\n",
    "    \n",
    "    try:\n",
    "        #find disclaimer button\n",
    "        disclamer_btn = driver.find_element(by='name', value=\"AcceptDisclaimerButton\")\n",
    "    \n",
    "        #click the disclaimer button to move to the data page\n",
    "        disclamer_btn.click()\n",
    "    except:\n",
    "        pass\n",
    "\n",
    "    #place holder for extracted data\n",
    "    data_url_list = []\n",
    "    data_url_full_list = []\n",
    "    \n",
    "    #locate each table rows\n",
    "    data_rows = driver.find_elements(By.CLASS_NAME, value=\"hovereffect\")\n",
    "\n",
    "    #if no inspection data skip to the next url\n",
    "    if len(data_rows)==0:\n",
    "        continue\n",
    "    \n",
    "    for row in data_rows:\n",
    "        data_url_list.append( row.get_attribute(\"onclick\") )\n",
    "    \n",
    "    url_prefix = \"https://www.checkbeforeyouchoose.ca\"\n",
    "    for u in data_url_list:\n",
    "        temp_url = url_prefix+u.split(\"'\")[1]\n",
    "        data_url_full_list.append(temp_url)\n",
    "    \n",
    "    tables = pd.read_html(StringIO((driver.page_source)))\n",
    "    table  = tables[1]\n",
    "    table['url_inspection'] = data_url_list\n",
    "    table['url_inspection_full'] = data_url_full_list\n",
    "    table['url_entity_full'] = url_entity\n",
    "\n",
    "    df_list.append(table)\n",
    " "
   ]
  },
  {
   "cell_type": "code",
   "execution_count": null,
   "id": "6493f7a8-2606-4c7f-8923-cffbedb9e29c",
   "metadata": {},
   "outputs": [],
   "source": []
  },
  {
   "cell_type": "code",
   "execution_count": null,
   "id": "18095ea3-0b7c-460a-9d3f-c919df608abb",
   "metadata": {},
   "outputs": [],
   "source": []
  },
  {
   "cell_type": "code",
   "execution_count": null,
   "id": "bfe0d1f9-23a7-442b-959b-adc94944c322",
   "metadata": {},
   "outputs": [],
   "source": []
  },
  {
   "cell_type": "code",
   "execution_count": 9,
   "id": "ceaeaffe",
   "metadata": {},
   "outputs": [
    {
     "name": "stdout",
     "output_type": "stream",
     "text": [
      "(26772, 8)\n"
     ]
    }
   ],
   "source": [
    "final_df = pd.concat(df_list)\n",
    "print(final_df.shape)"
   ]
  },
  {
   "cell_type": "code",
   "execution_count": 10,
   "id": "667436f8-1c1d-4d4a-bd3d-051b1041a58f",
   "metadata": {},
   "outputs": [
    {
     "data": {
      "text/html": [
       "<div>\n",
       "<style scoped>\n",
       "    .dataframe tbody tr th:only-of-type {\n",
       "        vertical-align: middle;\n",
       "    }\n",
       "\n",
       "    .dataframe tbody tr th {\n",
       "        vertical-align: top;\n",
       "    }\n",
       "\n",
       "    .dataframe thead th {\n",
       "        text-align: right;\n",
       "    }\n",
       "</style>\n",
       "<table border=\"1\" class=\"dataframe\">\n",
       "  <thead>\n",
       "    <tr style=\"text-align: right;\">\n",
       "      <th></th>\n",
       "      <th>Facility Name</th>\n",
       "      <th>Inspection Type</th>\n",
       "      <th>Critical Infractions Count</th>\n",
       "      <th>Non Critical Infractions Count</th>\n",
       "      <th>Inspection Date</th>\n",
       "      <th>url_inspection</th>\n",
       "      <th>url_inspection_full</th>\n",
       "      <th>url_entity_full</th>\n",
       "    </tr>\n",
       "  </thead>\n",
       "  <tbody>\n",
       "    <tr>\n",
       "      <th>0</th>\n",
       "      <td>Seed - Guelph Community Health Centre (The)</td>\n",
       "      <td>Required</td>\n",
       "      <td>0</td>\n",
       "      <td>0</td>\n",
       "      <td>22-Feb-2024</td>\n",
       "      <td>location.href = '/Inspection/Details/8d1f56e2-...</td>\n",
       "      <td>https://www.checkbeforeyouchoose.ca/Inspection...</td>\n",
       "      <td>https://www.checkbeforeyouchoose.ca/Facility/D...</td>\n",
       "    </tr>\n",
       "    <tr>\n",
       "      <th>0</th>\n",
       "      <td>10C Shared Space</td>\n",
       "      <td>Required</td>\n",
       "      <td>0</td>\n",
       "      <td>0</td>\n",
       "      <td>05-Apr-2024</td>\n",
       "      <td>location.href = '/Inspection/Details/489c641a-...</td>\n",
       "      <td>https://www.checkbeforeyouchoose.ca/Inspection...</td>\n",
       "      <td>https://www.checkbeforeyouchoose.ca/Facility/D...</td>\n",
       "    </tr>\n",
       "    <tr>\n",
       "      <th>1</th>\n",
       "      <td>10C Shared Space</td>\n",
       "      <td>Required</td>\n",
       "      <td>0</td>\n",
       "      <td>0</td>\n",
       "      <td>08-May-2023</td>\n",
       "      <td>location.href = '/Inspection/Details/f1785a11-...</td>\n",
       "      <td>https://www.checkbeforeyouchoose.ca/Inspection...</td>\n",
       "      <td>https://www.checkbeforeyouchoose.ca/Facility/D...</td>\n",
       "    </tr>\n",
       "    <tr>\n",
       "      <th>2</th>\n",
       "      <td>10C Shared Space</td>\n",
       "      <td>Required</td>\n",
       "      <td>0</td>\n",
       "      <td>0</td>\n",
       "      <td>17-Oct-2022</td>\n",
       "      <td>location.href = '/Inspection/Details/b9afabd4-...</td>\n",
       "      <td>https://www.checkbeforeyouchoose.ca/Inspection...</td>\n",
       "      <td>https://www.checkbeforeyouchoose.ca/Facility/D...</td>\n",
       "    </tr>\n",
       "    <tr>\n",
       "      <th>3</th>\n",
       "      <td>10C Shared Space</td>\n",
       "      <td>Required</td>\n",
       "      <td>0</td>\n",
       "      <td>0</td>\n",
       "      <td>05-Oct-2021</td>\n",
       "      <td>location.href = '/Inspection/Details/9149908c-...</td>\n",
       "      <td>https://www.checkbeforeyouchoose.ca/Inspection...</td>\n",
       "      <td>https://www.checkbeforeyouchoose.ca/Facility/D...</td>\n",
       "    </tr>\n",
       "    <tr>\n",
       "      <th>...</th>\n",
       "      <td>...</td>\n",
       "      <td>...</td>\n",
       "      <td>...</td>\n",
       "      <td>...</td>\n",
       "      <td>...</td>\n",
       "      <td>...</td>\n",
       "      <td>...</td>\n",
       "      <td>...</td>\n",
       "    </tr>\n",
       "    <tr>\n",
       "      <th>21</th>\n",
       "      <td>Win Chinese Food</td>\n",
       "      <td>Required</td>\n",
       "      <td>0</td>\n",
       "      <td>0</td>\n",
       "      <td>26-Oct-2018</td>\n",
       "      <td>location.href = '/Inspection/Details/4fe8c75a-...</td>\n",
       "      <td>https://www.checkbeforeyouchoose.ca/Inspection...</td>\n",
       "      <td>https://www.checkbeforeyouchoose.ca/Facility/D...</td>\n",
       "    </tr>\n",
       "    <tr>\n",
       "      <th>22</th>\n",
       "      <td>Win Chinese Food</td>\n",
       "      <td>Required</td>\n",
       "      <td>0</td>\n",
       "      <td>1</td>\n",
       "      <td>11-Jul-2018</td>\n",
       "      <td>location.href = '/Inspection/Details/ce9ec164-...</td>\n",
       "      <td>https://www.checkbeforeyouchoose.ca/Inspection...</td>\n",
       "      <td>https://www.checkbeforeyouchoose.ca/Facility/D...</td>\n",
       "    </tr>\n",
       "    <tr>\n",
       "      <th>23</th>\n",
       "      <td>Win Chinese Food</td>\n",
       "      <td>Required</td>\n",
       "      <td>0</td>\n",
       "      <td>0</td>\n",
       "      <td>22-Feb-2018</td>\n",
       "      <td>location.href = '/Inspection/Details/efd8ac1e-...</td>\n",
       "      <td>https://www.checkbeforeyouchoose.ca/Inspection...</td>\n",
       "      <td>https://www.checkbeforeyouchoose.ca/Facility/D...</td>\n",
       "    </tr>\n",
       "    <tr>\n",
       "      <th>24</th>\n",
       "      <td>Win Chinese Food</td>\n",
       "      <td>Required</td>\n",
       "      <td>0</td>\n",
       "      <td>0</td>\n",
       "      <td>03-Nov-2017</td>\n",
       "      <td>location.href = '/Inspection/Details/e5290b64-...</td>\n",
       "      <td>https://www.checkbeforeyouchoose.ca/Inspection...</td>\n",
       "      <td>https://www.checkbeforeyouchoose.ca/Facility/D...</td>\n",
       "    </tr>\n",
       "    <tr>\n",
       "      <th>25</th>\n",
       "      <td>Win Chinese Food</td>\n",
       "      <td>Demand</td>\n",
       "      <td>0</td>\n",
       "      <td>3</td>\n",
       "      <td>20-Oct-2017</td>\n",
       "      <td>location.href = '/Inspection/Details/52a04348-...</td>\n",
       "      <td>https://www.checkbeforeyouchoose.ca/Inspection...</td>\n",
       "      <td>https://www.checkbeforeyouchoose.ca/Facility/D...</td>\n",
       "    </tr>\n",
       "  </tbody>\n",
       "</table>\n",
       "<p>26772 rows × 8 columns</p>\n",
       "</div>"
      ],
      "text/plain": [
       "                                  Facility Name Inspection Type  \\\n",
       "0   Seed - Guelph Community Health Centre (The)        Required   \n",
       "0                              10C Shared Space        Required   \n",
       "1                              10C Shared Space        Required   \n",
       "2                              10C Shared Space        Required   \n",
       "3                              10C Shared Space        Required   \n",
       "..                                          ...             ...   \n",
       "21                             Win Chinese Food        Required   \n",
       "22                             Win Chinese Food        Required   \n",
       "23                             Win Chinese Food        Required   \n",
       "24                             Win Chinese Food        Required   \n",
       "25                             Win Chinese Food          Demand   \n",
       "\n",
       "    Critical Infractions Count  Non Critical Infractions Count  \\\n",
       "0                            0                               0   \n",
       "0                            0                               0   \n",
       "1                            0                               0   \n",
       "2                            0                               0   \n",
       "3                            0                               0   \n",
       "..                         ...                             ...   \n",
       "21                           0                               0   \n",
       "22                           0                               1   \n",
       "23                           0                               0   \n",
       "24                           0                               0   \n",
       "25                           0                               3   \n",
       "\n",
       "   Inspection Date                                     url_inspection  \\\n",
       "0      22-Feb-2024  location.href = '/Inspection/Details/8d1f56e2-...   \n",
       "0      05-Apr-2024  location.href = '/Inspection/Details/489c641a-...   \n",
       "1      08-May-2023  location.href = '/Inspection/Details/f1785a11-...   \n",
       "2      17-Oct-2022  location.href = '/Inspection/Details/b9afabd4-...   \n",
       "3      05-Oct-2021  location.href = '/Inspection/Details/9149908c-...   \n",
       "..             ...                                                ...   \n",
       "21     26-Oct-2018  location.href = '/Inspection/Details/4fe8c75a-...   \n",
       "22     11-Jul-2018  location.href = '/Inspection/Details/ce9ec164-...   \n",
       "23     22-Feb-2018  location.href = '/Inspection/Details/efd8ac1e-...   \n",
       "24     03-Nov-2017  location.href = '/Inspection/Details/e5290b64-...   \n",
       "25     20-Oct-2017  location.href = '/Inspection/Details/52a04348-...   \n",
       "\n",
       "                                  url_inspection_full  \\\n",
       "0   https://www.checkbeforeyouchoose.ca/Inspection...   \n",
       "0   https://www.checkbeforeyouchoose.ca/Inspection...   \n",
       "1   https://www.checkbeforeyouchoose.ca/Inspection...   \n",
       "2   https://www.checkbeforeyouchoose.ca/Inspection...   \n",
       "3   https://www.checkbeforeyouchoose.ca/Inspection...   \n",
       "..                                                ...   \n",
       "21  https://www.checkbeforeyouchoose.ca/Inspection...   \n",
       "22  https://www.checkbeforeyouchoose.ca/Inspection...   \n",
       "23  https://www.checkbeforeyouchoose.ca/Inspection...   \n",
       "24  https://www.checkbeforeyouchoose.ca/Inspection...   \n",
       "25  https://www.checkbeforeyouchoose.ca/Inspection...   \n",
       "\n",
       "                                      url_entity_full  \n",
       "0   https://www.checkbeforeyouchoose.ca/Facility/D...  \n",
       "0   https://www.checkbeforeyouchoose.ca/Facility/D...  \n",
       "1   https://www.checkbeforeyouchoose.ca/Facility/D...  \n",
       "2   https://www.checkbeforeyouchoose.ca/Facility/D...  \n",
       "3   https://www.checkbeforeyouchoose.ca/Facility/D...  \n",
       "..                                                ...  \n",
       "21  https://www.checkbeforeyouchoose.ca/Facility/D...  \n",
       "22  https://www.checkbeforeyouchoose.ca/Facility/D...  \n",
       "23  https://www.checkbeforeyouchoose.ca/Facility/D...  \n",
       "24  https://www.checkbeforeyouchoose.ca/Facility/D...  \n",
       "25  https://www.checkbeforeyouchoose.ca/Facility/D...  \n",
       "\n",
       "[26772 rows x 8 columns]"
      ]
     },
     "execution_count": 10,
     "metadata": {},
     "output_type": "execute_result"
    }
   ],
   "source": [
    "final_df"
   ]
  },
  {
   "cell_type": "code",
   "execution_count": 11,
   "id": "f1bce748",
   "metadata": {},
   "outputs": [],
   "source": [
    "final_df.to_csv( output_path + \"2_level_table.csv\", index=False)"
   ]
  },
  {
   "cell_type": "code",
   "execution_count": 12,
   "id": "e568037c",
   "metadata": {},
   "outputs": [],
   "source": [
    "#close webdriver\n",
    "try:\n",
    "    driver.close()\n",
    "except:\n",
    "    pass"
   ]
  },
  {
   "cell_type": "code",
   "execution_count": null,
   "id": "e2297a3e-3288-4405-b184-a229b52422dc",
   "metadata": {},
   "outputs": [],
   "source": []
  },
  {
   "cell_type": "code",
   "execution_count": null,
   "id": "4dfcc4a8-677b-4a70-ba03-54ca09811f21",
   "metadata": {},
   "outputs": [],
   "source": []
  }
 ],
 "metadata": {
  "kernelspec": {
   "display_name": "Python 3 (ipykernel)",
   "language": "python",
   "name": "python3"
  },
  "language_info": {
   "codemirror_mode": {
    "name": "ipython",
    "version": 3
   },
   "file_extension": ".py",
   "mimetype": "text/x-python",
   "name": "python",
   "nbconvert_exporter": "python",
   "pygments_lexer": "ipython3",
   "version": "3.11.7"
  }
 },
 "nbformat": 4,
 "nbformat_minor": 5
}

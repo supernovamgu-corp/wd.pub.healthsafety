{
 "cells": [
  {
   "cell_type": "code",
   "execution_count": 1,
   "id": "b68df8b7-7e53-4667-920f-40ebce3d5ccc",
   "metadata": {},
   "outputs": [],
   "source": [
    "#data prefix for output data\n",
    "yearmonth = \"202405\""
   ]
  },
  {
   "cell_type": "code",
   "execution_count": 2,
   "id": "d7d5e654",
   "metadata": {},
   "outputs": [],
   "source": [
    "#import necessary packages\n",
    "import platform\n",
    "import os\n",
    "import sys\n",
    "import time\n",
    "#for managing the data\n",
    "import pandas as pd\n",
    "from io import StringIO\n",
    "\n",
    "#install !pip install webdriver-manager\n",
    "#webdrivers\n",
    "from selenium import webdriver\n",
    "from selenium.webdriver.chrome.service import Service as ChromeService\n",
    "from webdriver_manager.chrome import ChromeDriverManager\n",
    "from selenium.webdriver.common.by import By\n",
    "\n",
    "from bs4 import BeautifulSoup\n",
    "\n",
    "import pathlib\n",
    "\n",
    "import os"
   ]
  },
  {
   "cell_type": "code",
   "execution_count": 3,
   "id": "3df70c99",
   "metadata": {},
   "outputs": [],
   "source": [
    "#get current path\n",
    "curr_path = os.getcwd()\n",
    "project_tag = curr_path.split(\"/\")[-1]\n",
    "grouping = curr_path.split(\"/\")[-2]\n",
    "output_path = \"../../../data/{}/{}/{}/\".format(grouping,project_tag,yearmonth )\n",
    "\n",
    "#create data output path if it doesn't exist\n",
    "pathlib.Path(output_path).mkdir(parents=True, exist_ok=True) "
   ]
  },
  {
   "cell_type": "code",
   "execution_count": 7,
   "id": "d6997359",
   "metadata": {},
   "outputs": [],
   "source": [
    "#open web driver\n",
    "driver = webdriver.Chrome(service=ChromeService(ChromeDriverManager().install()))"
   ]
  },
  {
   "cell_type": "code",
   "execution_count": 5,
   "id": "c02b01a0",
   "metadata": {},
   "outputs": [],
   "source": [
    "#url\n",
    "base_url_list = \\\n",
    "[\n",
    "    ['Food',\"https://healthinspect.ca/Portal/Food/Table\", ['Facility Name','Site Address','Last Inspection Date']],\n",
    "    ['Pools, Hot Tubs and Splash Pads',\"https://healthinspect.ca/Portal/PoolsHotTubsAndSplashPads/Table\", ['Facility Name','Facility Type','Site Address','Last Inspection Date']],\n",
    "    ['Recreational Camps',\"https://healthinspect.ca/Portal/RecreationalCamps/Table\", ['Facility Name','Site Address','Last Inspection Date']],\n",
    "    ['Hair, Aesthetics, Tattoo And Body Piercing',\"https://healthinspect.ca/Portal/HairAestheticsTattooAndBodyPiercing/Table\",['Facility Name','Site Address','Last Inspection Date']],\n",
    "    ['Child Care Settings',\"https://healthinspect.ca/Portal/ChildCareSettings/Table\",['Facility Name','Site Address','Last Inspection Date']],\n",
    "]\n",
    "    "
   ]
  },
  {
   "cell_type": "code",
   "execution_count": 8,
   "id": "1247f93f",
   "metadata": {
    "scrolled": true
   },
   "outputs": [],
   "source": [
    "#place holder for final dataframe list\n",
    "df_list = []\n",
    "\n",
    "for u in base_url_list:\n",
    "    category = u[0]\n",
    "    base_url = u[1]\n",
    "    columns  = u[2]\n",
    "\n",
    "    #load main landing page\n",
    "    driver.get(base_url)\n",
    "    \n",
    "    try:\n",
    "        #find disclaimer button\n",
    "        disclamer_btn = driver.find_element(by='name', value=\"AcceptDisclaimerButton\")\n",
    "\n",
    "        #click the disclaimer button to move to the data page\n",
    "        disclamer_btn.click()\n",
    "    except:\n",
    "        pass\n",
    "    \n",
    "    # We will loop through until there's no next page button on the webpage\n",
    "    #find next page button\n",
    "    last_page = False\n",
    "\n",
    "    while last_page==False:\n",
    "        try:\n",
    "            next_btn = driver.find_element(By.CLASS_NAME, value=\"next-page-link\")\n",
    "        except:\n",
    "            last_page = True\n",
    "\n",
    "\n",
    "        #place holder for extracted data\n",
    "        data_url_list = []\n",
    "\n",
    "        #locate each table rows\n",
    "        data_rows = driver.find_elements(By.CLASS_NAME, value=\"hovereffect\")\n",
    "\n",
    "        for row in data_rows:\n",
    "            data_url_list.append( row.get_attribute(\"onclick\") )\n",
    "\n",
    "        #convert html table into dataframe\n",
    "        df = pd.read_html(StringIO((driver.page_source)))\n",
    "        df = df[0]\n",
    "        \n",
    "\n",
    "        #rename columns for clean up\n",
    "        df.columns = columns\n",
    "        \n",
    "        #append url column and category column\n",
    "        df['url_entity_partial'] = data_url_list\n",
    "        df['category'] = category\n",
    "\n",
    "        #put aside resulting table\n",
    "        df_list.append(df)\n",
    "\n",
    "        if last_page==True:\n",
    "            break\n",
    "        #move to the next page\n",
    "        next_btn.click()"
   ]
  },
  {
   "cell_type": "code",
   "execution_count": 9,
   "id": "ceaeaffe",
   "metadata": {},
   "outputs": [
    {
     "name": "stdout",
     "output_type": "stream",
     "text": [
      "(2022, 6)\n"
     ]
    }
   ],
   "source": [
    "final_df = pd.concat(df_list)\n",
    "print(final_df.shape)"
   ]
  },
  {
   "cell_type": "code",
   "execution_count": null,
   "id": "667436f8-1c1d-4d4a-bd3d-051b1041a58f",
   "metadata": {},
   "outputs": [],
   "source": []
  },
  {
   "cell_type": "code",
   "execution_count": 10,
   "id": "0a3c59da-73d8-403d-8b77-91bb93038024",
   "metadata": {},
   "outputs": [],
   "source": [
    "#create full url link\n",
    "url_prefix = \"https://healthinspect.ca\"\n",
    "\n",
    "url_list=[]\n",
    "for i,r in final_df.iterrows():\n",
    "    temp_url_full = url_prefix + r['url_entity_partial'].split(\"'\")[1]\n",
    "    url_list.append( temp_url_full )\n",
    "\n",
    "final_df['url_entity_full'] = url_list"
   ]
  },
  {
   "cell_type": "code",
   "execution_count": null,
   "id": "889ef0cd-5de9-4a95-b698-3e327154afd4",
   "metadata": {},
   "outputs": [],
   "source": []
  },
  {
   "cell_type": "code",
   "execution_count": 11,
   "id": "f1bce748",
   "metadata": {},
   "outputs": [
    {
     "name": "stdout",
     "output_type": "stream",
     "text": [
      "file outputted to  ../../../data/regional/southwestern_health_unit/202405/1_level_table.csv\n"
     ]
    }
   ],
   "source": [
    "final_df.to_csv( output_path + \"1_level_table.csv\", index=False)\n",
    "print(\"file outputted to \",output_path + \"1_level_table.csv\")"
   ]
  },
  {
   "cell_type": "code",
   "execution_count": 12,
   "id": "e568037c",
   "metadata": {},
   "outputs": [],
   "source": [
    "#close webdriver\n",
    "try:\n",
    "    driver.close()\n",
    "except:\n",
    "    pass"
   ]
  },
  {
   "cell_type": "code",
   "execution_count": null,
   "id": "e83c09af-cfe4-443f-b7f2-983d073c7c81",
   "metadata": {},
   "outputs": [],
   "source": []
  }
 ],
 "metadata": {
  "kernelspec": {
   "display_name": "Python 3 (ipykernel)",
   "language": "python",
   "name": "python3"
  },
  "language_info": {
   "codemirror_mode": {
    "name": "ipython",
    "version": 3
   },
   "file_extension": ".py",
   "mimetype": "text/x-python",
   "name": "python",
   "nbconvert_exporter": "python",
   "pygments_lexer": "ipython3",
   "version": "3.11.7"
  }
 },
 "nbformat": 4,
 "nbformat_minor": 5
}

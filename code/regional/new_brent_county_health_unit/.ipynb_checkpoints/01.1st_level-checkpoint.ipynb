{
 "cells": [
  {
   "cell_type": "code",
   "execution_count": 1,
   "id": "b68df8b7-7e53-4667-920f-40ebce3d5ccc",
   "metadata": {},
   "outputs": [],
   "source": [
    "#data prefix for output data\n",
    "yearmonth = \"202405\""
   ]
  },
  {
   "cell_type": "code",
   "execution_count": 2,
   "id": "d7d5e654",
   "metadata": {},
   "outputs": [],
   "source": [
    "#import necessary packages\n",
    "import platform\n",
    "import os\n",
    "import sys\n",
    "import time\n",
    "#for managing the data\n",
    "import pandas as pd\n",
    "from io import StringIO\n",
    "\n",
    "#install !pip install webdriver-manager\n",
    "#webdrivers\n",
    "from selenium import webdriver\n",
    "from selenium.webdriver.chrome.service import Service as ChromeService\n",
    "from webdriver_manager.chrome import ChromeDriverManager\n",
    "from selenium.webdriver.common.by import By\n",
    "\n",
    "from bs4 import BeautifulSoup\n",
    "\n",
    "import pathlib\n",
    "\n",
    "import os"
   ]
  },
  {
   "cell_type": "code",
   "execution_count": 4,
   "id": "3df70c99",
   "metadata": {},
   "outputs": [
    {
     "name": "stdout",
     "output_type": "stream",
     "text": [
      "data output path created, ../../../data/regional/brent_county_health_unit/202405/\n"
     ]
    }
   ],
   "source": [
    "#get current path\n",
    "curr_path = os.getcwd()\n",
    "project_tag = curr_path.split(\"/\")[-1]\n",
    "grouping = curr_path.split(\"/\")[-2]\n",
    "output_path = \"../../../data/{}/{}/{}/\".format(grouping,project_tag,yearmonth )\n",
    "\n",
    "#create data output path if it doesn't exist\n",
    "pathlib.Path(output_path).mkdir(parents=True, exist_ok=True) \n",
    "print(\"data output path created,\", output_path)"
   ]
  },
  {
   "cell_type": "code",
   "execution_count": 38,
   "id": "d6997359",
   "metadata": {},
   "outputs": [],
   "source": [
    "#open web driver\n",
    "driver = webdriver.Chrome(service=ChromeService(ChromeDriverManager().install()))"
   ]
  },
  {
   "cell_type": "code",
   "execution_count": 39,
   "id": "c02b01a0",
   "metadata": {},
   "outputs": [],
   "source": [
    "#url\n",
    "base_url_list = \\\n",
    "[\n",
    "    ['food',\"https://inspectionreports.bchu.org/Disclosure/#/42635db8-42d9-47bb-b797-0bed66de3b46/disclosure\", \\\n",
    "     ['Facility Name','Site Address','Facility Type','Last Inspection Date'] ],\n",
    "    ['recreational_water',\"https://inspectionreports.bchu.org/Disclosure/#/58e76e6b-2ba5-4772-bc1a-879c912952c3/disclosure\", \\\n",
    "     ['Facility Name','Site Address','Facility Type','Last Inspection Date']],\n",
    "    ['daycares',\"https://inspectionreports.bchu.org/Disclosure/#/2ddb5467-6eb1-406f-8161-ad58c233f528/disclosure\",\\\n",
    "     ['Facility Name','Site Address','Last Inspection Date']],\n",
    "    ['temporarily_closed',\"http://disclosure.algomapublichealth.com/Portal/Closure\",\\\n",
    "     ['Facility Name','Site Address','Community','Program Area','Closed Date','Reason','Reopen Date']],\n",
    "    ['tickets_orders',\"http://disclosure.algomapublichealth.com/Portal/Enforcements\",\\\n",
    "     ['Facility Name','Site Address','Type','Offense','Outcome','Offense Date','Resolved Date']],\n",
    "]"
   ]
  },
  {
   "cell_type": "code",
   "execution_count": null,
   "id": "2627da7a",
   "metadata": {},
   "outputs": [],
   "source": []
  },
  {
   "cell_type": "code",
   "execution_count": 40,
   "id": "1247f93f",
   "metadata": {
    "scrolled": true
   },
   "outputs": [],
   "source": [
    "#place holder for final dataframe list\n",
    "df_list = []\n",
    "\n",
    "for u in base_url_list:\n",
    "    category = u[0]\n",
    "    base_url = u[1]\n",
    "    columns  = u[2]\n",
    "\n",
    "    #load main landing page\n",
    "    driver.get(base_url)\n",
    "    \n",
    "    try:\n",
    "        #find disclaimer button\n",
    "        disclamer_btn = driver.find_element(by='name', value=\"AcceptDisclaimerButton\")\n",
    "\n",
    "        #click the disclaimer button to move to the data page\n",
    "        disclamer_btn.click()\n",
    "    except:\n",
    "        pass\n",
    "    \n",
    "    # We will loop through until there's no next page button on the webpage\n",
    "    #find next page button\n",
    "    last_page = False\n",
    "\n",
    "    while last_page==False:\n",
    "        try:\n",
    "            next_btn = driver.find_element(By.CLASS_NAME, value=\"next-page-link\")\n",
    "        except:\n",
    "            last_page = True\n",
    "\n",
    "\n",
    "        #place holder for extracted data\n",
    "        data_url_list = []\n",
    "\n",
    "        #locate each table rows\n",
    "        data_rows = driver.find_elements(By.CLASS_NAME, value=\"hovereffect\")\n",
    "\n",
    "        for row in data_rows:\n",
    "            data_url_list.append( row.get_attribute(\"onclick\") )\n",
    "\n",
    "        #convert html table into dataframe\n",
    "        df = pd.read_html(StringIO((driver.page_source)))\n",
    "        df = df[0]\n",
    "        \n",
    "\n",
    "        #rename columns for clean up\n",
    "        df.columns = columns\n",
    "        \n",
    "        #append url column and category column\n",
    "        df['url_entity_partial'] = data_url_list\n",
    "        df['category'] = category\n",
    "\n",
    "        #put aside resulting table\n",
    "        df_list.append(df)\n",
    "\n",
    "        if last_page==True:\n",
    "            break\n",
    "        #move to the next page\n",
    "        next_btn.click()"
   ]
  },
  {
   "cell_type": "code",
   "execution_count": 41,
   "id": "ceaeaffe",
   "metadata": {},
   "outputs": [],
   "source": [
    "final_df = pd.concat(df_list)\n",
    "print(final_df.shape)"
   ]
  },
  {
   "cell_type": "code",
   "execution_count": 43,
   "id": "667436f8-1c1d-4d4a-bd3d-051b1041a58f",
   "metadata": {},
   "outputs": [
    {
     "data": {
      "text/plain": [
       "(1387, 16)"
      ]
     },
     "execution_count": 43,
     "metadata": {},
     "output_type": "execute_result"
    }
   ],
   "source": []
  },
  {
   "cell_type": "code",
   "execution_count": 46,
   "id": "0a3c59da-73d8-403d-8b77-91bb93038024",
   "metadata": {},
   "outputs": [],
   "source": [
    "#create full url link\n",
    "url_prefix = \"http://disclosure.algomapublichealth.com\"\n",
    "\n",
    "url_list=[]\n",
    "for i,r in final_df.iterrows():\n",
    "    temp_url_full = url_prefix + r['url_entity_partial'].split(\"'\")[1]\n",
    "    url_list.append( temp_url_full )\n",
    "\n",
    "final_df['url_entity_full'] = url_list"
   ]
  },
  {
   "cell_type": "code",
   "execution_count": null,
   "id": "9944cf5b-7d15-4c84-bb5e-f043bd37070a",
   "metadata": {},
   "outputs": [],
   "source": []
  },
  {
   "cell_type": "code",
   "execution_count": 47,
   "id": "f1bce748",
   "metadata": {},
   "outputs": [],
   "source": [
    "final_df.to_csv( output_path + \"1_level_table.csv\", index=False)\n",
    "print(\"file outputted to \",output_path + \"1_level_table.csv\")"
   ]
  },
  {
   "cell_type": "code",
   "execution_count": 48,
   "id": "e568037c",
   "metadata": {},
   "outputs": [],
   "source": [
    "#close webdriver\n",
    "try:\n",
    "    driver.close()\n",
    "except:\n",
    "    pass"
   ]
  },
  {
   "cell_type": "code",
   "execution_count": null,
   "id": "4053b95a",
   "metadata": {},
   "outputs": [],
   "source": []
  }
 ],
 "metadata": {
  "kernelspec": {
   "display_name": "Python 3 (ipykernel)",
   "language": "python",
   "name": "python3"
  },
  "language_info": {
   "codemirror_mode": {
    "name": "ipython",
    "version": 3
   },
   "file_extension": ".py",
   "mimetype": "text/x-python",
   "name": "python",
   "nbconvert_exporter": "python",
   "pygments_lexer": "ipython3",
   "version": "3.11.7"
  }
 },
 "nbformat": 4,
 "nbformat_minor": 5
}

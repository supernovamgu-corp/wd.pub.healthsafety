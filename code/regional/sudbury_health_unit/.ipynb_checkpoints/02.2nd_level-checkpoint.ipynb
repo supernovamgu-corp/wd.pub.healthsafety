{
 "cells": [
  {
   "cell_type": "code",
   "execution_count": 1,
   "id": "b68df8b7-7e53-4667-920f-40ebce3d5ccc",
   "metadata": {},
   "outputs": [],
   "source": [
    "#data prefix for output data\n",
    "yearmonth = \"202405\""
   ]
  },
  {
   "cell_type": "code",
   "execution_count": 2,
   "id": "d7d5e654",
   "metadata": {},
   "outputs": [],
   "source": [
    "#import necessary packages\n",
    "import platform\n",
    "import os\n",
    "import sys\n",
    "import time\n",
    "#for managing the data\n",
    "import pandas as pd\n",
    "\n",
    "#install !pip install webdriver-manager\n",
    "#webdrivers\n",
    "from selenium import webdriver\n",
    "from selenium.webdriver.chrome.service import Service as ChromeService\n",
    "from webdriver_manager.chrome import ChromeDriverManager\n",
    "from selenium.webdriver.common.by import By\n",
    "\n",
    "from bs4 import BeautifulSoup\n",
    "\n",
    "import pathlib\n",
    "\n",
    "import os\n",
    "from io import StringIO\n",
    "\n",
    "from tqdm import tqdm"
   ]
  },
  {
   "cell_type": "code",
   "execution_count": 3,
   "id": "3df70c99",
   "metadata": {},
   "outputs": [],
   "source": [
    "#get current path\n",
    "curr_path = os.getcwd()\n",
    "project_tag = curr_path.split(\"/\")[-1]\n",
    "grouping = curr_path.split(\"/\")[-2]\n",
    "output_path = \"../../../data/{}/{}/{}/\".format(grouping,project_tag,yearmonth )\n",
    "\n",
    "#create data output path if it doesn't exist\n",
    "pathlib.Path(output_path).mkdir(parents=True, exist_ok=True) "
   ]
  },
  {
   "cell_type": "code",
   "execution_count": null,
   "id": "d6997359",
   "metadata": {},
   "outputs": [],
   "source": []
  },
  {
   "cell_type": "code",
   "execution_count": 4,
   "id": "f9c66cab-87db-43b8-8200-4fc30f7d7c9c",
   "metadata": {},
   "outputs": [
    {
     "name": "stdout",
     "output_type": "stream",
     "text": [
      "(2622, 14)\n"
     ]
    }
   ],
   "source": [
    "#load in level 1 data\n",
    "df = pd.read_csv(output_path + \"1_level_table.csv\")\n",
    "print(df.shape)"
   ]
  },
  {
   "cell_type": "code",
   "execution_count": 5,
   "id": "15f319ce-0f89-4e57-813c-f0da5a5754e0",
   "metadata": {},
   "outputs": [],
   "source": [
    "#open web driver\n",
    "driver = webdriver.Chrome(service=ChromeService(ChromeDriverManager().install()))"
   ]
  },
  {
   "cell_type": "code",
   "execution_count": 6,
   "id": "c670fa77-5b4a-4cb3-80e3-cbf9dbf03413",
   "metadata": {},
   "outputs": [],
   "source": [
    "#place holder for final dataframe list\n",
    "df_list = []"
   ]
  },
  {
   "cell_type": "code",
   "execution_count": 7,
   "id": "1247f93f",
   "metadata": {
    "scrolled": true
   },
   "outputs": [
    {
     "name": "stderr",
     "output_type": "stream",
     "text": [
      "2622it [21:21,  2.05it/s]\n"
     ]
    }
   ],
   "source": [
    "\n",
    "\n",
    "for i,r in tqdm( df.iterrows() ):\n",
    "    #resume point in case it crashes\n",
    "    last_i = len(df_list)-1\n",
    "    if i<last_i:\n",
    "        continue\n",
    "    url = r['url_entity_partial']\n",
    "    url_entity = r['url_entity_full']\n",
    "    \n",
    "    #load the main landing page\n",
    "    driver.get(url_entity)\n",
    "    \n",
    "    try:\n",
    "        #find disclaimer button\n",
    "        disclamer_btn = driver.find_element(by='name', value=\"AcceptDisclaimerButton\")\n",
    "    \n",
    "        #click the disclaimer button to move to the data page\n",
    "        disclamer_btn.click()\n",
    "    except:\n",
    "        pass\n",
    "\n",
    "    #place holder for extracted data\n",
    "    data_url_list = []\n",
    "    data_url_full_list = []\n",
    "    \n",
    "    #locate each table rows\n",
    "    data_rows = driver.find_elements(By.CLASS_NAME, value=\"hovereffect\")\n",
    "\n",
    "    #if no inspection data skip to the next url\n",
    "    if len(data_rows)==0:\n",
    "        continue\n",
    "    \n",
    "    for row in data_rows:\n",
    "        data_url_list.append( row.get_attribute(\"onclick\") )\n",
    "    \n",
    "    url_prefix = \"https://checkbeforeyougo.phsd.ca\"\n",
    "    for u in data_url_list:\n",
    "        temp_url = url_prefix+u.split(\"'\")[1]\n",
    "        data_url_full_list.append(temp_url)\n",
    "    \n",
    "    tables = pd.read_html(StringIO((driver.page_source)))\n",
    "    table  = tables[1]\n",
    "    table['url_inspection'] = data_url_list\n",
    "    table['url_inspection_full'] = data_url_full_list\n",
    "    table['url_entity_full'] = url_entity\n",
    "\n",
    "    df_list.append(table)\n",
    " "
   ]
  },
  {
   "cell_type": "code",
   "execution_count": null,
   "id": "6493f7a8-2606-4c7f-8923-cffbedb9e29c",
   "metadata": {},
   "outputs": [],
   "source": []
  },
  {
   "cell_type": "code",
   "execution_count": null,
   "id": "18095ea3-0b7c-460a-9d3f-c919df608abb",
   "metadata": {},
   "outputs": [],
   "source": []
  },
  {
   "cell_type": "code",
   "execution_count": null,
   "id": "bfe0d1f9-23a7-442b-959b-adc94944c322",
   "metadata": {},
   "outputs": [],
   "source": []
  },
  {
   "cell_type": "code",
   "execution_count": 8,
   "id": "ceaeaffe",
   "metadata": {},
   "outputs": [
    {
     "name": "stdout",
     "output_type": "stream",
     "text": [
      "(6579, 5)\n"
     ]
    }
   ],
   "source": [
    "final_df = pd.concat(df_list)\n",
    "print(final_df.shape)"
   ]
  },
  {
   "cell_type": "code",
   "execution_count": 9,
   "id": "667436f8-1c1d-4d4a-bd3d-051b1041a58f",
   "metadata": {},
   "outputs": [
    {
     "data": {
      "text/html": [
       "<div>\n",
       "<style scoped>\n",
       "    .dataframe tbody tr th:only-of-type {\n",
       "        vertical-align: middle;\n",
       "    }\n",
       "\n",
       "    .dataframe tbody tr th {\n",
       "        vertical-align: top;\n",
       "    }\n",
       "\n",
       "    .dataframe thead th {\n",
       "        text-align: right;\n",
       "    }\n",
       "</style>\n",
       "<table border=\"1\" class=\"dataframe\">\n",
       "  <thead>\n",
       "    <tr style=\"text-align: right;\">\n",
       "      <th></th>\n",
       "      <th>Inspection Date</th>\n",
       "      <th>Inspection Type</th>\n",
       "      <th>url_inspection</th>\n",
       "      <th>url_inspection_full</th>\n",
       "      <th>url_entity_full</th>\n",
       "    </tr>\n",
       "  </thead>\n",
       "  <tbody>\n",
       "    <tr>\n",
       "      <th>0</th>\n",
       "      <td>26-Mar-2024</td>\n",
       "      <td>Required</td>\n",
       "      <td>location.href = '/Inspection/Details/6a1a4412-...</td>\n",
       "      <td>https://checkbeforeyougo.phsd.ca/Inspection/De...</td>\n",
       "      <td>https://checkbeforeyougo.phsd.ca/Facility/Deta...</td>\n",
       "    </tr>\n",
       "    <tr>\n",
       "      <th>1</th>\n",
       "      <td>26-Jun-2023</td>\n",
       "      <td>Required</td>\n",
       "      <td>location.href = '/Inspection/Details/1d99b982-...</td>\n",
       "      <td>https://checkbeforeyougo.phsd.ca/Inspection/De...</td>\n",
       "      <td>https://checkbeforeyougo.phsd.ca/Facility/Deta...</td>\n",
       "    </tr>\n",
       "    <tr>\n",
       "      <th>2</th>\n",
       "      <td>12-Jun-2022</td>\n",
       "      <td>Required</td>\n",
       "      <td>location.href = '/Inspection/Details/8c078d5e-...</td>\n",
       "      <td>https://checkbeforeyougo.phsd.ca/Inspection/De...</td>\n",
       "      <td>https://checkbeforeyougo.phsd.ca/Facility/Deta...</td>\n",
       "    </tr>\n",
       "    <tr>\n",
       "      <th>3</th>\n",
       "      <td>12-May-2022</td>\n",
       "      <td>Required</td>\n",
       "      <td>location.href = '/Inspection/Details/a9149d3e-...</td>\n",
       "      <td>https://checkbeforeyougo.phsd.ca/Inspection/De...</td>\n",
       "      <td>https://checkbeforeyougo.phsd.ca/Facility/Deta...</td>\n",
       "    </tr>\n",
       "    <tr>\n",
       "      <th>0</th>\n",
       "      <td>01-May-2024</td>\n",
       "      <td>Required</td>\n",
       "      <td>location.href = '/Inspection/Details/929587b5-...</td>\n",
       "      <td>https://checkbeforeyougo.phsd.ca/Inspection/De...</td>\n",
       "      <td>https://checkbeforeyougo.phsd.ca/Facility/Deta...</td>\n",
       "    </tr>\n",
       "    <tr>\n",
       "      <th>...</th>\n",
       "      <td>...</td>\n",
       "      <td>...</td>\n",
       "      <td>...</td>\n",
       "      <td>...</td>\n",
       "      <td>...</td>\n",
       "    </tr>\n",
       "    <tr>\n",
       "      <th>0</th>\n",
       "      <td>18-Aug-2023</td>\n",
       "      <td>Required</td>\n",
       "      <td>location.href = '/Inspection/Details/2f576fc5-...</td>\n",
       "      <td>https://checkbeforeyougo.phsd.ca/Inspection/De...</td>\n",
       "      <td>https://checkbeforeyougo.phsd.ca/Facility/Deta...</td>\n",
       "    </tr>\n",
       "    <tr>\n",
       "      <th>1</th>\n",
       "      <td>11-Aug-2023</td>\n",
       "      <td>Required</td>\n",
       "      <td>location.href = '/Inspection/Details/e49cf621-...</td>\n",
       "      <td>https://checkbeforeyougo.phsd.ca/Inspection/De...</td>\n",
       "      <td>https://checkbeforeyougo.phsd.ca/Facility/Deta...</td>\n",
       "    </tr>\n",
       "    <tr>\n",
       "      <th>0</th>\n",
       "      <td>03-Jun-2021</td>\n",
       "      <td>Required</td>\n",
       "      <td>location.href = '/Inspection/Details/3edb8074-...</td>\n",
       "      <td>https://checkbeforeyougo.phsd.ca/Inspection/De...</td>\n",
       "      <td>https://checkbeforeyougo.phsd.ca/Facility/Deta...</td>\n",
       "    </tr>\n",
       "    <tr>\n",
       "      <th>0</th>\n",
       "      <td>03-Jun-2021</td>\n",
       "      <td>Required</td>\n",
       "      <td>location.href = '/Inspection/Details/3edb8074-...</td>\n",
       "      <td>https://checkbeforeyougo.phsd.ca/Inspection/De...</td>\n",
       "      <td>https://checkbeforeyougo.phsd.ca/Facility/Deta...</td>\n",
       "    </tr>\n",
       "    <tr>\n",
       "      <th>0</th>\n",
       "      <td>03-Jun-2021</td>\n",
       "      <td>Required</td>\n",
       "      <td>location.href = '/Inspection/Details/3edb8074-...</td>\n",
       "      <td>https://checkbeforeyougo.phsd.ca/Inspection/De...</td>\n",
       "      <td>https://checkbeforeyougo.phsd.ca/Facility/Deta...</td>\n",
       "    </tr>\n",
       "  </tbody>\n",
       "</table>\n",
       "<p>6579 rows × 5 columns</p>\n",
       "</div>"
      ],
      "text/plain": [
       "   Inspection Date Inspection Type  \\\n",
       "0      26-Mar-2024        Required   \n",
       "1      26-Jun-2023        Required   \n",
       "2      12-Jun-2022        Required   \n",
       "3      12-May-2022        Required   \n",
       "0      01-May-2024        Required   \n",
       "..             ...             ...   \n",
       "0      18-Aug-2023        Required   \n",
       "1      11-Aug-2023        Required   \n",
       "0      03-Jun-2021        Required   \n",
       "0      03-Jun-2021        Required   \n",
       "0      03-Jun-2021        Required   \n",
       "\n",
       "                                       url_inspection  \\\n",
       "0   location.href = '/Inspection/Details/6a1a4412-...   \n",
       "1   location.href = '/Inspection/Details/1d99b982-...   \n",
       "2   location.href = '/Inspection/Details/8c078d5e-...   \n",
       "3   location.href = '/Inspection/Details/a9149d3e-...   \n",
       "0   location.href = '/Inspection/Details/929587b5-...   \n",
       "..                                                ...   \n",
       "0   location.href = '/Inspection/Details/2f576fc5-...   \n",
       "1   location.href = '/Inspection/Details/e49cf621-...   \n",
       "0   location.href = '/Inspection/Details/3edb8074-...   \n",
       "0   location.href = '/Inspection/Details/3edb8074-...   \n",
       "0   location.href = '/Inspection/Details/3edb8074-...   \n",
       "\n",
       "                                  url_inspection_full  \\\n",
       "0   https://checkbeforeyougo.phsd.ca/Inspection/De...   \n",
       "1   https://checkbeforeyougo.phsd.ca/Inspection/De...   \n",
       "2   https://checkbeforeyougo.phsd.ca/Inspection/De...   \n",
       "3   https://checkbeforeyougo.phsd.ca/Inspection/De...   \n",
       "0   https://checkbeforeyougo.phsd.ca/Inspection/De...   \n",
       "..                                                ...   \n",
       "0   https://checkbeforeyougo.phsd.ca/Inspection/De...   \n",
       "1   https://checkbeforeyougo.phsd.ca/Inspection/De...   \n",
       "0   https://checkbeforeyougo.phsd.ca/Inspection/De...   \n",
       "0   https://checkbeforeyougo.phsd.ca/Inspection/De...   \n",
       "0   https://checkbeforeyougo.phsd.ca/Inspection/De...   \n",
       "\n",
       "                                      url_entity_full  \n",
       "0   https://checkbeforeyougo.phsd.ca/Facility/Deta...  \n",
       "1   https://checkbeforeyougo.phsd.ca/Facility/Deta...  \n",
       "2   https://checkbeforeyougo.phsd.ca/Facility/Deta...  \n",
       "3   https://checkbeforeyougo.phsd.ca/Facility/Deta...  \n",
       "0   https://checkbeforeyougo.phsd.ca/Facility/Deta...  \n",
       "..                                                ...  \n",
       "0   https://checkbeforeyougo.phsd.ca/Facility/Deta...  \n",
       "1   https://checkbeforeyougo.phsd.ca/Facility/Deta...  \n",
       "0   https://checkbeforeyougo.phsd.ca/Facility/Deta...  \n",
       "0   https://checkbeforeyougo.phsd.ca/Facility/Deta...  \n",
       "0   https://checkbeforeyougo.phsd.ca/Facility/Deta...  \n",
       "\n",
       "[6579 rows x 5 columns]"
      ]
     },
     "execution_count": 9,
     "metadata": {},
     "output_type": "execute_result"
    }
   ],
   "source": [
    "final_df"
   ]
  },
  {
   "cell_type": "code",
   "execution_count": 10,
   "id": "f1bce748",
   "metadata": {},
   "outputs": [],
   "source": [
    "final_df.to_csv( output_path + \"2_level_table.csv\", index=False)"
   ]
  },
  {
   "cell_type": "code",
   "execution_count": 11,
   "id": "e568037c",
   "metadata": {},
   "outputs": [],
   "source": [
    "#close webdriver\n",
    "try:\n",
    "    driver.close()\n",
    "except:\n",
    "    pass"
   ]
  },
  {
   "cell_type": "code",
   "execution_count": null,
   "id": "e2297a3e-3288-4405-b184-a229b52422dc",
   "metadata": {},
   "outputs": [],
   "source": []
  }
 ],
 "metadata": {
  "kernelspec": {
   "display_name": "Python 3 (ipykernel)",
   "language": "python",
   "name": "python3"
  },
  "language_info": {
   "codemirror_mode": {
    "name": "ipython",
    "version": 3
   },
   "file_extension": ".py",
   "mimetype": "text/x-python",
   "name": "python",
   "nbconvert_exporter": "python",
   "pygments_lexer": "ipython3",
   "version": "3.11.7"
  }
 },
 "nbformat": 4,
 "nbformat_minor": 5
}

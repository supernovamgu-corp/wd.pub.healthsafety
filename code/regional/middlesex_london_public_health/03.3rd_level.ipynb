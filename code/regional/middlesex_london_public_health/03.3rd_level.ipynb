{
 "cells": [
  {
   "cell_type": "code",
   "execution_count": 1,
   "id": "b68df8b7-7e53-4667-920f-40ebce3d5ccc",
   "metadata": {},
   "outputs": [],
   "source": [
    "#data prefix for output data\n",
    "yearmonth = \"202405\""
   ]
  },
  {
   "cell_type": "code",
   "execution_count": 2,
   "id": "d7d5e654",
   "metadata": {},
   "outputs": [],
   "source": [
    "#import necessary packages\n",
    "import platform\n",
    "import os\n",
    "import sys\n",
    "import time\n",
    "#for managing the data\n",
    "import pandas as pd\n",
    "\n",
    "#install !pip install webdriver-manager\n",
    "#webdrivers\n",
    "from selenium import webdriver\n",
    "from selenium.webdriver.chrome.service import Service as ChromeService\n",
    "from webdriver_manager.chrome import ChromeDriverManager\n",
    "from selenium.webdriver.common.by import By\n",
    "\n",
    "from bs4 import BeautifulSoup\n",
    "\n",
    "import pathlib\n",
    "\n",
    "import os\n",
    "from io import StringIO\n",
    "\n",
    "from tqdm import tqdm"
   ]
  },
  {
   "cell_type": "code",
   "execution_count": 3,
   "id": "3df70c99",
   "metadata": {},
   "outputs": [],
   "source": [
    "#get current path\n",
    "curr_path = os.getcwd()\n",
    "project_tag = curr_path.split(\"/\")[-1]\n",
    "grouping = curr_path.split(\"/\")[-2]\n",
    "output_path = \"../../../data/{}/{}/{}/\".format(grouping,project_tag,yearmonth )\n",
    "\n",
    "#create data output path if it doesn't exist\n",
    "pathlib.Path(output_path).mkdir(parents=True, exist_ok=True) "
   ]
  },
  {
   "cell_type": "code",
   "execution_count": null,
   "id": "d6997359",
   "metadata": {},
   "outputs": [],
   "source": []
  },
  {
   "cell_type": "code",
   "execution_count": 4,
   "id": "f9c66cab-87db-43b8-8200-4fc30f7d7c9c",
   "metadata": {},
   "outputs": [
    {
     "name": "stdout",
     "output_type": "stream",
     "text": [
      "(15570, 8)\n"
     ]
    }
   ],
   "source": [
    "#load in level 2 data\n",
    "df = pd.read_csv(output_path + \"2_level_table.csv\")\n",
    "print(df.shape)"
   ]
  },
  {
   "cell_type": "code",
   "execution_count": 5,
   "id": "15f319ce-0f89-4e57-813c-f0da5a5754e0",
   "metadata": {},
   "outputs": [],
   "source": [
    "#open web driver\n",
    "driver = webdriver.Chrome(service=ChromeService(ChromeDriverManager().install()))"
   ]
  },
  {
   "cell_type": "code",
   "execution_count": 6,
   "id": "c670fa77-5b4a-4cb3-80e3-cbf9dbf03413",
   "metadata": {},
   "outputs": [],
   "source": [
    "#place holder for results\n",
    "result_list = []"
   ]
  },
  {
   "cell_type": "code",
   "execution_count": 8,
   "id": "1247f93f",
   "metadata": {
    "scrolled": true
   },
   "outputs": [
    {
     "name": "stderr",
     "output_type": "stream",
     "text": [
      "15570it [51:33,  5.03it/s]  \n"
     ]
    }
   ],
   "source": [
    "for i,r in tqdm( df.iterrows() ):\n",
    "    #resume point in case it crashes\n",
    "    last_i = len(result_list)-1\n",
    "    if i<last_i:\n",
    "        continue\n",
    "        \n",
    "    url_inspection = r['url_inspection_full']\n",
    "\n",
    "    temp_result = {}\n",
    "    \n",
    "    #load the main landing page\n",
    "    driver.get(url_inspection)\n",
    "    \n",
    "    try:\n",
    "        #find disclaimer button\n",
    "        disclamer_btn = driver.find_element(by='name', value=\"AcceptDisclaimerButton\")\n",
    "    \n",
    "        #click the disclaimer button to move to the data page\n",
    "        disclamer_btn.click()\n",
    "    except:\n",
    "        pass\n",
    "    \n",
    "    #get inspection text\n",
    "    tables = driver.find_elements(By.CSS_SELECTOR, \"article\")\n",
    "    \n",
    "    #gather resulting texts\n",
    "    temp_result['url_inspection_full'] = url_inspection\n",
    "    temp_result['inspection_results'] =  tables[-2].text\n",
    "    temp_result['actions_taken'] = tables[-1].text\n",
    "    \n",
    "    result_list.append(temp_result)\n",
    " "
   ]
  },
  {
   "cell_type": "code",
   "execution_count": null,
   "id": "6493f7a8-2606-4c7f-8923-cffbedb9e29c",
   "metadata": {},
   "outputs": [],
   "source": []
  },
  {
   "cell_type": "code",
   "execution_count": null,
   "id": "18095ea3-0b7c-460a-9d3f-c919df608abb",
   "metadata": {},
   "outputs": [],
   "source": []
  },
  {
   "cell_type": "code",
   "execution_count": 9,
   "id": "ceaeaffe",
   "metadata": {},
   "outputs": [
    {
     "name": "stdout",
     "output_type": "stream",
     "text": [
      "(15571, 3)\n"
     ]
    }
   ],
   "source": [
    "final_df = pd.DataFrame(result_list)\n",
    "print(final_df.shape)"
   ]
  },
  {
   "cell_type": "code",
   "execution_count": 10,
   "id": "667436f8-1c1d-4d4a-bd3d-051b1041a58f",
   "metadata": {},
   "outputs": [
    {
     "data": {
      "text/html": [
       "<div>\n",
       "<style scoped>\n",
       "    .dataframe tbody tr th:only-of-type {\n",
       "        vertical-align: middle;\n",
       "    }\n",
       "\n",
       "    .dataframe tbody tr th {\n",
       "        vertical-align: top;\n",
       "    }\n",
       "\n",
       "    .dataframe thead th {\n",
       "        text-align: right;\n",
       "    }\n",
       "</style>\n",
       "<table border=\"1\" class=\"dataframe\">\n",
       "  <thead>\n",
       "    <tr style=\"text-align: right;\">\n",
       "      <th></th>\n",
       "      <th>url_inspection_full</th>\n",
       "      <th>inspection_results</th>\n",
       "      <th>actions_taken</th>\n",
       "    </tr>\n",
       "  </thead>\n",
       "  <tbody>\n",
       "    <tr>\n",
       "      <th>0</th>\n",
       "      <td>https://inspections.healthunit.com/Portal/Insp...</td>\n",
       "      <td>Equipment &amp; Utensils Sanitation\\nUtensils are ...</td>\n",
       "      <td>Food Handler Education On-site\\nCorrection(s) ...</td>\n",
       "    </tr>\n",
       "    <tr>\n",
       "      <th>1</th>\n",
       "      <td>https://inspections.healthunit.com/Portal/Insp...</td>\n",
       "      <td>No results to show</td>\n",
       "      <td>Satisfactory - No Action Required</td>\n",
       "    </tr>\n",
       "    <tr>\n",
       "      <th>2</th>\n",
       "      <td>https://inspections.healthunit.com/Portal/Insp...</td>\n",
       "      <td>Equipment &amp; Utensils Sanitation\\nMechanical di...</td>\n",
       "      <td>Food Handler Education On-site\\nCorrection(s) ...</td>\n",
       "    </tr>\n",
       "    <tr>\n",
       "      <th>3</th>\n",
       "      <td>https://inspections.healthunit.com/Portal/Insp...</td>\n",
       "      <td>Food Handler Training\\nFood handler or supervi...</td>\n",
       "      <td>Food Handler Education On-site\\nCorrection(s) ...</td>\n",
       "    </tr>\n",
       "    <tr>\n",
       "      <th>4</th>\n",
       "      <td>https://inspections.healthunit.com/Portal/Insp...</td>\n",
       "      <td>Sanitary Maintenance &amp; Construction\\nRooms, wa...</td>\n",
       "      <td>Correction(s) Required</td>\n",
       "    </tr>\n",
       "  </tbody>\n",
       "</table>\n",
       "</div>"
      ],
      "text/plain": [
       "                                 url_inspection_full  \\\n",
       "0  https://inspections.healthunit.com/Portal/Insp...   \n",
       "1  https://inspections.healthunit.com/Portal/Insp...   \n",
       "2  https://inspections.healthunit.com/Portal/Insp...   \n",
       "3  https://inspections.healthunit.com/Portal/Insp...   \n",
       "4  https://inspections.healthunit.com/Portal/Insp...   \n",
       "\n",
       "                                  inspection_results  \\\n",
       "0  Equipment & Utensils Sanitation\\nUtensils are ...   \n",
       "1                                 No results to show   \n",
       "2  Equipment & Utensils Sanitation\\nMechanical di...   \n",
       "3  Food Handler Training\\nFood handler or supervi...   \n",
       "4  Sanitary Maintenance & Construction\\nRooms, wa...   \n",
       "\n",
       "                                       actions_taken  \n",
       "0  Food Handler Education On-site\\nCorrection(s) ...  \n",
       "1                  Satisfactory - No Action Required  \n",
       "2  Food Handler Education On-site\\nCorrection(s) ...  \n",
       "3  Food Handler Education On-site\\nCorrection(s) ...  \n",
       "4                             Correction(s) Required  "
      ]
     },
     "metadata": {},
     "output_type": "display_data"
    }
   ],
   "source": [
    "display(final_df.head())"
   ]
  },
  {
   "cell_type": "code",
   "execution_count": 11,
   "id": "f1bce748",
   "metadata": {},
   "outputs": [],
   "source": [
    "final_df.to_csv( output_path + \"3_level_table.csv\", index=False)"
   ]
  },
  {
   "cell_type": "code",
   "execution_count": 12,
   "id": "e568037c",
   "metadata": {},
   "outputs": [],
   "source": [
    "#close webdriver\n",
    "try:\n",
    "    driver.close()\n",
    "except:\n",
    "    pass"
   ]
  },
  {
   "cell_type": "code",
   "execution_count": null,
   "id": "9280a52d",
   "metadata": {},
   "outputs": [],
   "source": []
  },
  {
   "cell_type": "code",
   "execution_count": null,
   "id": "4053b95a",
   "metadata": {},
   "outputs": [],
   "source": []
  }
 ],
 "metadata": {
  "kernelspec": {
   "display_name": "Python 3 (ipykernel)",
   "language": "python",
   "name": "python3"
  },
  "language_info": {
   "codemirror_mode": {
    "name": "ipython",
    "version": 3
   },
   "file_extension": ".py",
   "mimetype": "text/x-python",
   "name": "python",
   "nbconvert_exporter": "python",
   "pygments_lexer": "ipython3",
   "version": "3.11.7"
  }
 },
 "nbformat": 4,
 "nbformat_minor": 5
}
